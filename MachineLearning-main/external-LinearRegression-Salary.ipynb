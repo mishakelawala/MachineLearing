{
 "cells": [
  {
   "cell_type": "code",
   "execution_count": 24,
   "metadata": {
    "id": "8UTpw_gZXJjD"
   },
   "outputs": [],
   "source": [
    "import pandas as pd\n"
   ]
  },
  {
   "cell_type": "code",
   "execution_count": 25,
   "metadata": {
    "id": "xZT5inU0Xlbb"
   },
   "outputs": [
    {
     "data": {
      "text/html": [
       "<div>\n",
       "<style scoped>\n",
       "    .dataframe tbody tr th:only-of-type {\n",
       "        vertical-align: middle;\n",
       "    }\n",
       "\n",
       "    .dataframe tbody tr th {\n",
       "        vertical-align: top;\n",
       "    }\n",
       "\n",
       "    .dataframe thead th {\n",
       "        text-align: right;\n",
       "    }\n",
       "</style>\n",
       "<table border=\"1\" class=\"dataframe\">\n",
       "  <thead>\n",
       "    <tr style=\"text-align: right;\">\n",
       "      <th></th>\n",
       "      <th>YearsExperience</th>\n",
       "      <th>Salary</th>\n",
       "    </tr>\n",
       "  </thead>\n",
       "  <tbody>\n",
       "    <tr>\n",
       "      <th>0</th>\n",
       "      <td>1.1</td>\n",
       "      <td>39343</td>\n",
       "    </tr>\n",
       "    <tr>\n",
       "      <th>1</th>\n",
       "      <td>1.3</td>\n",
       "      <td>46205</td>\n",
       "    </tr>\n",
       "    <tr>\n",
       "      <th>2</th>\n",
       "      <td>1.5</td>\n",
       "      <td>37731</td>\n",
       "    </tr>\n",
       "    <tr>\n",
       "      <th>3</th>\n",
       "      <td>2.0</td>\n",
       "      <td>43525</td>\n",
       "    </tr>\n",
       "    <tr>\n",
       "      <th>4</th>\n",
       "      <td>2.2</td>\n",
       "      <td>39891</td>\n",
       "    </tr>\n",
       "  </tbody>\n",
       "</table>\n",
       "</div>"
      ],
      "text/plain": [
       "   YearsExperience  Salary\n",
       "0              1.1   39343\n",
       "1              1.3   46205\n",
       "2              1.5   37731\n",
       "3              2.0   43525\n",
       "4              2.2   39891"
      ]
     },
     "execution_count": 25,
     "metadata": {},
     "output_type": "execute_result"
    }
   ],
   "source": [
    "data = pd.read_csv('Salary_Data.csv')\n",
    "data.head()"
   ]
  },
  {
   "cell_type": "code",
   "execution_count": 26,
   "metadata": {
    "id": "bEbNqGLwX70x"
   },
   "outputs": [
    {
     "name": "stdout",
     "output_type": "stream",
     "text": [
      "<class 'pandas.core.frame.DataFrame'>\n",
      "RangeIndex: 30 entries, 0 to 29\n",
      "Data columns (total 2 columns):\n",
      " #   Column           Non-Null Count  Dtype  \n",
      "---  ------           --------------  -----  \n",
      " 0   YearsExperience  30 non-null     float64\n",
      " 1   Salary           30 non-null     int64  \n",
      "dtypes: float64(1), int64(1)\n",
      "memory usage: 608.0 bytes\n"
     ]
    }
   ],
   "source": [
    "data.info()"
   ]
  },
  {
   "cell_type": "code",
   "execution_count": 27,
   "metadata": {
    "id": "3LE6zpjUYM5X"
   },
   "outputs": [
    {
     "data": {
      "text/plain": [
       "numpy.ndarray"
      ]
     },
     "execution_count": 27,
     "metadata": {},
     "output_type": "execute_result"
    }
   ],
   "source": [
    "x= data[['YearsExperience']].values\n",
    "y= data['Salary'].values\n",
    "\n",
    "type(x)\n"
   ]
  },
  {
   "cell_type": "code",
   "execution_count": 28,
   "metadata": {
    "id": "dtDwuEO8Y3rV"
   },
   "outputs": [
    {
     "name": "stdout",
     "output_type": "stream",
     "text": [
      "[[ 1.1]\n",
      " [ 1.3]\n",
      " [ 1.5]\n",
      " [ 2. ]\n",
      " [ 2.2]\n",
      " [ 2.9]\n",
      " [ 3. ]\n",
      " [ 3.2]\n",
      " [ 3.2]\n",
      " [ 3.7]\n",
      " [ 3.9]\n",
      " [ 4. ]\n",
      " [ 4. ]\n",
      " [ 4.1]\n",
      " [ 4.5]\n",
      " [ 4.9]\n",
      " [ 5.1]\n",
      " [ 5.3]\n",
      " [ 5.9]\n",
      " [ 6. ]\n",
      " [ 6.8]\n",
      " [ 7.1]\n",
      " [ 7.9]\n",
      " [ 8.2]\n",
      " [ 8.7]\n",
      " [ 9. ]\n",
      " [ 9.5]\n",
      " [ 9.6]\n",
      " [10.3]\n",
      " [10.5]] \n",
      "\n",
      " [ 39343  46205  37731  43525  39891  56642  60150  54445  64445  57189\n",
      "  63218  55794  56957  57081  61111  67938  66029  83088  81363  93940\n",
      "  91738  98273 101302 113812 109431 105582 116969 112635 122391 121872]\n"
     ]
    }
   ],
   "source": [
    "print(x,'\\n\\n', y)"
   ]
  },
  {
   "cell_type": "code",
   "execution_count": 29,
   "metadata": {
    "id": "xaI4CDtiZJdY"
   },
   "outputs": [
    {
     "data": {
      "text/plain": [
       "(30,)"
      ]
     },
     "execution_count": 29,
     "metadata": {},
     "output_type": "execute_result"
    }
   ],
   "source": [
    "x.shape\n",
    "y.shape"
   ]
  },
  {
   "cell_type": "code",
   "execution_count": 30,
   "metadata": {
    "colab": {
     "base_uri": "https://localhost:8080/"
    },
    "id": "XxL6LD_nZZfw",
    "outputId": "80b3d354-9001-41dd-963c-44cf10fb4b91"
   },
   "outputs": [
    {
     "data": {
      "text/plain": [
       "array([[ 1.1],\n",
       "       [ 1.3],\n",
       "       [ 1.5],\n",
       "       [ 2. ],\n",
       "       [ 2.2],\n",
       "       [ 2.9],\n",
       "       [ 3. ],\n",
       "       [ 3.2],\n",
       "       [ 3.2],\n",
       "       [ 3.7],\n",
       "       [ 3.9],\n",
       "       [ 4. ],\n",
       "       [ 4. ],\n",
       "       [ 4.1],\n",
       "       [ 4.5],\n",
       "       [ 4.9],\n",
       "       [ 5.1],\n",
       "       [ 5.3],\n",
       "       [ 5.9],\n",
       "       [ 6. ],\n",
       "       [ 6.8],\n",
       "       [ 7.1],\n",
       "       [ 7.9],\n",
       "       [ 8.2],\n",
       "       [ 8.7],\n",
       "       [ 9. ],\n",
       "       [ 9.5],\n",
       "       [ 9.6],\n",
       "       [10.3],\n",
       "       [10.5]])"
      ]
     },
     "execution_count": 30,
     "metadata": {},
     "output_type": "execute_result"
    }
   ],
   "source": [
    "x"
   ]
  },
  {
   "cell_type": "code",
   "execution_count": 31,
   "metadata": {
    "id": "-wEo3L9KZlYR"
   },
   "outputs": [],
   "source": [
    "# shape of feature should be(no. of samples, no. of features)\n",
    "#x=x.reshape(len(x),1)\n",
    "#print(x)"
   ]
  },
  {
   "cell_type": "code",
   "execution_count": 32,
   "metadata": {
    "id": "IafzUmXuafLW"
   },
   "outputs": [],
   "source": [
    "# divide data into training and testing samples\n",
    "from sklearn.model_selection import train_test_split\n",
    "xtrain, xtest, ytrain, ytest = train_test_split(x,y, train_size = 0.80, random_state=1)\n"
   ]
  },
  {
   "cell_type": "code",
   "execution_count": 33,
   "metadata": {
    "id": "oZp2bQubbV8r"
   },
   "outputs": [
    {
     "data": {
      "text/plain": [
       "array([[ 9.5],\n",
       "       [ 2. ],\n",
       "       [ 8.7],\n",
       "       [ 7.9],\n",
       "       [ 8.2],\n",
       "       [ 2.2],\n",
       "       [ 1.5],\n",
       "       [ 9. ],\n",
       "       [ 3. ],\n",
       "       [ 5.9],\n",
       "       [ 4.1],\n",
       "       [ 3.2],\n",
       "       [ 9.6],\n",
       "       [ 1.3],\n",
       "       [ 5.1],\n",
       "       [ 1.1],\n",
       "       [ 4.9],\n",
       "       [10.5],\n",
       "       [10.3],\n",
       "       [ 3.7],\n",
       "       [ 3.2],\n",
       "       [ 4. ],\n",
       "       [ 4. ],\n",
       "       [ 2.9]])"
      ]
     },
     "execution_count": 33,
     "metadata": {},
     "output_type": "execute_result"
    }
   ],
   "source": [
    "xtrain"
   ]
  },
  {
   "cell_type": "code",
   "execution_count": 34,
   "metadata": {
    "id": "ZZRu4MvebfN_"
   },
   "outputs": [
    {
     "data": {
      "text/plain": [
       "array([[5.3],\n",
       "       [7.1],\n",
       "       [3.9],\n",
       "       [6. ],\n",
       "       [4.5],\n",
       "       [6.8]])"
      ]
     },
     "execution_count": 34,
     "metadata": {},
     "output_type": "execute_result"
    }
   ],
   "source": [
    "xtest"
   ]
  },
  {
   "cell_type": "code",
   "execution_count": 35,
   "metadata": {
    "id": "UeMeso5Jbk_v"
   },
   "outputs": [
    {
     "data": {
      "text/plain": [
       "array([116969,  43525, 109431, 101302, 113812,  39891,  37731, 105582,\n",
       "        60150,  81363,  57081,  54445, 112635,  46205,  66029,  39343,\n",
       "        67938, 121872, 122391,  57189,  64445,  56957,  55794,  56642])"
      ]
     },
     "execution_count": 35,
     "metadata": {},
     "output_type": "execute_result"
    }
   ],
   "source": [
    "ytrain"
   ]
  },
  {
   "cell_type": "code",
   "execution_count": 36,
   "metadata": {
    "id": "us0TkaGzbp6T"
   },
   "outputs": [
    {
     "data": {
      "text/plain": [
       "array([83088, 98273, 63218, 93940, 61111, 91738])"
      ]
     },
     "execution_count": 36,
     "metadata": {},
     "output_type": "execute_result"
    }
   ],
   "source": [
    "ytest"
   ]
  },
  {
   "cell_type": "code",
   "execution_count": 37,
   "metadata": {
    "id": "Xex7_dRRbzca"
   },
   "outputs": [],
   "source": [
    "#prepare model\n",
    "from sklearn.linear_model import LinearRegression\n",
    "model = LinearRegression()"
   ]
  },
  {
   "cell_type": "code",
   "execution_count": 38,
   "metadata": {
    "colab": {
     "base_uri": "https://localhost:8080/"
    },
    "id": "se_Wv8GbcG0B",
    "outputId": "2a5ca3c6-1e52-43e3-dd82-e762a4fbf975"
   },
   "outputs": [
    {
     "data": {
      "text/plain": [
       "LinearRegression()"
      ]
     },
     "execution_count": 38,
     "metadata": {},
     "output_type": "execute_result"
    }
   ],
   "source": [
    "#train model\n",
    "model.fit(xtrain, ytrain)"
   ]
  },
  {
   "cell_type": "code",
   "execution_count": 39,
   "metadata": {
    "colab": {
     "base_uri": "https://localhost:8080/"
    },
    "id": "7-6aQ_vBcbQr",
    "outputId": "bd80df07-41da-4786-ab11-f961d190d3cb"
   },
   "outputs": [
    {
     "data": {
      "text/plain": [
       "array([75074.50510972, 91873.8056381 , 62008.38247653, 81607.56642631,\n",
       "       67608.14931932, 89073.92221671])"
      ]
     },
     "execution_count": 39,
     "metadata": {},
     "output_type": "execute_result"
    }
   ],
   "source": [
    "#prediction\n",
    "ypred = model.predict(xtest)\n",
    "ypred"
   ]
  },
  {
   "cell_type": "code",
   "execution_count": 40,
   "metadata": {
    "colab": {
     "base_uri": "https://localhost:8080/"
    },
    "id": "2dm9rt5gct0L",
    "outputId": "caf3355b-2c29-448a-cf36-50c531240459"
   },
   "outputs": [
    {
     "data": {
      "text/plain": [
       "array([83088, 98273, 63218, 93940, 61111, 91738])"
      ]
     },
     "execution_count": 40,
     "metadata": {},
     "output_type": "execute_result"
    }
   ],
   "source": [
    "ytest"
   ]
  },
  {
   "cell_type": "code",
   "execution_count": 41,
   "metadata": {
    "colab": {
     "base_uri": "https://localhost:8080/"
    },
    "id": "-l4jCqPpdET2",
    "outputId": "6ff405e3-8b8a-4be9-82bd-6367c4a2ff11"
   },
   "outputs": [
    {
     "data": {
      "text/plain": [
       "0.7616681465472094"
      ]
     },
     "execution_count": 41,
     "metadata": {},
     "output_type": "execute_result"
    }
   ],
   "source": [
    "from sklearn.metrics import r2_score\n",
    "r2 = r2_score(ytest, ypred)\n",
    "r2"
   ]
  },
  {
   "cell_type": "code",
   "execution_count": 42,
   "metadata": {
    "id": "XPPTNXayeEuE"
   },
   "outputs": [
    {
     "data": {
      "text/plain": [
       "[0.7616681465472094,\n",
       " 0.8886956733784562,\n",
       " 0.9695039421049821,\n",
       " 0.9504404484884268,\n",
       " 0.9439628569611375,\n",
       " 0.9368146227107088,\n",
       " 0.8143022783109007,\n",
       " 0.9631182154839476,\n",
       " 0.9388416537799072,\n",
       " 0.9816423482070253,\n",
       " 0.940882728477622,\n",
       " 0.9429269163491424,\n",
       " 0.9394460269118793,\n",
       " 0.9606215790278543,\n",
       " 0.8697012433817218,\n",
       " 0.7949890249259295,\n",
       " 0.9384744808306155,\n",
       " 0.8864330645841889,\n",
       " 0.9415531751862448,\n",
       " 0.9441299149555877,\n",
       " 0.9398582853702571,\n",
       " 0.8870702615446784,\n",
       " 0.9184170849214232,\n",
       " 0.9520702017424296,\n",
       " 0.9531732818427658,\n",
       " 0.9835849730044816,\n",
       " 0.9636425773684422,\n",
       " 0.9217841352107623,\n",
       " 0.9467172742609804,\n",
       " 0.9944092048209745,\n",
       " 0.8967649524853983,\n",
       " 0.8985995727228404,\n",
       " 0.9350785573211586,\n",
       " 0.9244141448042442,\n",
       " 0.8839476512584652,\n",
       " 0.955021106900739,\n",
       " 0.9778242092591887,\n",
       " 0.972479448737762,\n",
       " 0.9928344802911049,\n",
       " 0.7775083459037235,\n",
       " 0.9802519469633169,\n",
       " 0.9024461774180497,\n",
       " 0.8688045158887867,\n",
       " 0.934951117043928,\n",
       " 0.9250487875802144,\n",
       " 0.9789129767378081,\n",
       " 0.98399193890564,\n",
       " 0.980277279178695,\n",
       " 0.9497670285223545,\n",
       " 0.8824679635169839,\n",
       " 0.9608624689052039,\n",
       " 0.9743646706957547,\n",
       " 0.9501154883629506,\n",
       " 0.9492729968840661,\n",
       " 0.8924137091604106,\n",
       " 0.9804067424885895,\n",
       " 0.8096351469357631,\n",
       " 0.4815220524569873,\n",
       " 0.9547990109846669,\n",
       " 0.9139925364405546,\n",
       " 0.9505222881477348,\n",
       " 0.9719509793938972,\n",
       " 0.9582008985104701,\n",
       " 0.9140067830429536,\n",
       " 0.811270086006565,\n",
       " 0.7782285644532063,\n",
       " 0.9588832495320916,\n",
       " 0.9791787060652751,\n",
       " 0.8711824073761935,\n",
       " 0.9429397733426299,\n",
       " 0.9694792167947474,\n",
       " 0.9562771755752736,\n",
       " 0.981214310330871,\n",
       " 0.9618591691900452,\n",
       " 0.9652242905568414,\n",
       " 0.8468270318540349,\n",
       " 0.9782012346646264,\n",
       " 0.9861836585536035,\n",
       " 0.9806625667591384,\n",
       " 0.9356346952232668,\n",
       " 0.9760426364249574,\n",
       " 0.9561094647440507,\n",
       " 0.953240654259053,\n",
       " 0.9535679874886691,\n",
       " 0.977173992682254,\n",
       " 0.9743110017459554,\n",
       " 0.9534669191518677,\n",
       " 0.9770761663991681,\n",
       " 0.9744265816506664,\n",
       " 0.9676701872390631,\n",
       " 0.5524142829082118,\n",
       " 0.9793995823406392,\n",
       " 0.9682219576297961,\n",
       " 0.9676991009836634,\n",
       " 0.9059754831220264,\n",
       " 0.9359396033635742,\n",
       " 0.9537039102493191,\n",
       " 0.3397513854022739,\n",
       " 0.9102354571044845,\n",
       " 0.9720725422361338]"
      ]
     },
     "execution_count": 42,
     "metadata": {},
     "output_type": "execute_result"
    }
   ],
   "source": [
    "#cross validation\n",
    "accu = []\n",
    "for i in range(1, 101):\n",
    "  xtrain, xtest, ytrain, ytest = train_test_split(x, y, train_size=0.80, random_state=i)\n",
    "  model = LinearRegression()\n",
    "  model.fit(xtrain, ytrain)\n",
    "  ypred = model.predict(xtest)\n",
    "  r2 = r2_score(ytest, ypred)\n",
    "  accu.append(r2)\n",
    "accu"
   ]
  },
  {
   "cell_type": "code",
   "execution_count": 43,
   "metadata": {
    "colab": {
     "base_uri": "https://localhost:8080/"
    },
    "id": "RNhXe8a1fihu",
    "outputId": "2635d973-052e-477b-ee61-f85d630786f3"
   },
   "outputs": [
    {
     "data": {
      "text/plain": [
       "array([0.76166815, 0.88869567, 0.96950394, 0.95044045, 0.94396286,\n",
       "       0.93681462, 0.81430228, 0.96311822, 0.93884165, 0.98164235,\n",
       "       0.94088273, 0.94292692, 0.93944603, 0.96062158, 0.86970124,\n",
       "       0.79498902, 0.93847448, 0.88643306, 0.94155318, 0.94412991,\n",
       "       0.93985829, 0.88707026, 0.91841708, 0.9520702 , 0.95317328,\n",
       "       0.98358497, 0.96364258, 0.92178414, 0.94671727, 0.9944092 ,\n",
       "       0.89676495, 0.89859957, 0.93507856, 0.92441414, 0.88394765,\n",
       "       0.95502111, 0.97782421, 0.97247945, 0.99283448, 0.77750835,\n",
       "       0.98025195, 0.90244618, 0.86880452, 0.93495112, 0.92504879,\n",
       "       0.97891298, 0.98399194, 0.98027728, 0.94976703, 0.88246796,\n",
       "       0.96086247, 0.97436467, 0.95011549, 0.949273  , 0.89241371,\n",
       "       0.98040674, 0.80963515, 0.48152205, 0.95479901, 0.91399254,\n",
       "       0.95052229, 0.97195098, 0.9582009 , 0.91400678, 0.81127009,\n",
       "       0.77822856, 0.95888325, 0.97917871, 0.87118241, 0.94293977,\n",
       "       0.96947922, 0.95627718, 0.98121431, 0.96185917, 0.96522429,\n",
       "       0.84682703, 0.97820123, 0.98618366, 0.98066257, 0.9356347 ,\n",
       "       0.97604264, 0.95610946, 0.95324065, 0.95356799, 0.97717399,\n",
       "       0.974311  , 0.95346692, 0.97707617, 0.97442658, 0.96767019,\n",
       "       0.55241428, 0.97939958, 0.96822196, 0.9676991 , 0.90597548,\n",
       "       0.9359396 , 0.95370391, 0.33975139, 0.91023546, 0.97207254])"
      ]
     },
     "execution_count": 43,
     "metadata": {},
     "output_type": "execute_result"
    }
   ],
   "source": [
    "import numpy as np\n",
    "acc_array = np.array(accu)\n",
    "acc_array"
   ]
  },
  {
   "cell_type": "code",
   "execution_count": 44,
   "metadata": {
    "colab": {
     "base_uri": "https://localhost:8080/"
    },
    "id": "xgwGxAcagK28",
    "outputId": "fbdd1af2-45d8-4079-df59-67b47a4d4666"
   },
   "outputs": [
    {
     "data": {
      "text/plain": [
       "0.9944092048209745"
      ]
     },
     "execution_count": 44,
     "metadata": {},
     "output_type": "execute_result"
    }
   ],
   "source": [
    "acc_array.max()"
   ]
  },
  {
   "cell_type": "code",
   "execution_count": 45,
   "metadata": {
    "colab": {
     "base_uri": "https://localhost:8080/"
    },
    "id": "NY1n3e9VgTuX",
    "outputId": "0672a339-3ce2-4565-def5-1d74f05ea1be"
   },
   "outputs": [
    {
     "data": {
      "text/plain": [
       "29"
      ]
     },
     "execution_count": 45,
     "metadata": {},
     "output_type": "execute_result"
    }
   ],
   "source": [
    "acc_array.argmax()"
   ]
  },
  {
   "cell_type": "code",
   "execution_count": null,
   "metadata": {},
   "outputs": [],
   "source": []
  }
 ],
 "metadata": {
  "colab": {
   "collapsed_sections": [],
   "name": "Regression_linear.ipynb",
   "provenance": []
  },
  "kernelspec": {
   "display_name": "Python 3",
   "language": "python",
   "name": "python3"
  },
  "language_info": {
   "codemirror_mode": {
    "name": "ipython",
    "version": 3
   },
   "file_extension": ".py",
   "mimetype": "text/x-python",
   "name": "python",
   "nbconvert_exporter": "python",
   "pygments_lexer": "ipython3",
   "version": "3.8.3"
  }
 },
 "nbformat": 4,
 "nbformat_minor": 1
}
