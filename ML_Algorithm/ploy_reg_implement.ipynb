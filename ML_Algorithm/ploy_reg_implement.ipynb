{
 "cells": [
  {
   "cell_type": "code",
   "execution_count": null,
   "metadata": {
    "id": "qFQEUIHjsORt"
   },
   "outputs": [],
   "source": [
    "import pandas as pd\n",
    "import numpy as np\n",
    "import matplotlib.pyplot as plt\n"
   ]
  },
  {
   "cell_type": "code",
   "execution_count": null,
   "metadata": {
    "id": "SYPutsnHtWSw"
   },
   "outputs": [],
   "source": [
    "# import dataset\n",
    "data = pd.read_csv('Salaries.csv')\n",
    "data.head()"
   ]
  },
  {
   "cell_type": "code",
   "execution_count": null,
   "metadata": {
    "id": "RsiT2gTNtzto"
   },
   "outputs": [],
   "source": [
    "# divide data into dependent and independent variable\n",
    "X=data.iloc[:, 1:2].values\n",
    "y=data.iloc[:, 2].values\n"
   ]
  },
  {
   "cell_type": "code",
   "execution_count": null,
   "metadata": {
    "id": "-vGwzAiducuI"
   },
   "outputs": [],
   "source": [
    "# split data\n",
    "from sklearn.model_selection import  train_test_split\n",
    "x_train, x_test, y_train, y_test=train_test_split(X,y, test_size=0.2, random_state=0)"
   ]
  },
  {
   "cell_type": "code",
   "execution_count": null,
   "metadata": {
    "id": "X2AjKVoEu79T"
   },
   "outputs": [],
   "source": [
    "# scale data\n",
    "from sklearn.preprocessing import  StandardScaler\n",
    "sc_x=StandardScaler()\n",
    "x_train=sc_x.fit_transform(x_train)\n",
    "x_test=sc_x.fit_transform(x_test)\n"
   ]
  },
  {
   "cell_type": "code",
   "execution_count": null,
   "metadata": {
    "colab": {
     "base_uri": "https://localhost:8080/"
    },
    "id": "4kN3gHOMwoLn",
    "outputId": "53605f5c-dbdc-427c-ef4c-7a67713a5bff"
   },
   "outputs": [
    {
     "data": {
      "text/plain": [
       "LinearRegression(copy_X=True, fit_intercept=True, n_jobs=None, normalize=False)"
      ]
     },
     "execution_count": 12,
     "metadata": {
      "tags": []
     },
     "output_type": "execute_result"
    }
   ],
   "source": [
    "# fit linear model\n",
    "from sklearn.linear_model import  LinearRegression\n",
    "lin_reg=LinearRegression()\n",
    "lin_reg.fit(X,y)"
   ]
  },
  {
   "cell_type": "code",
   "execution_count": null,
   "metadata": {
    "colab": {
     "base_uri": "https://localhost:8080/",
     "height": 281
    },
    "id": "8hYsq8EpxJJu",
    "outputId": "0387da1c-d4b2-42ba-9c0b-935af9773882"
   },
   "outputs": [
    {
     "data": {
      "image/png": "[encoded data removed]",
      "text/plain": [
       "<Figure size 432x288 with 1 Axes>"
      ]
     },
     "metadata": {
      "needs_background": "light",
      "tags": []
     },
     "output_type": "display_data"
    }
   ],
   "source": [
    "def lin_reg_fn():\n",
    "  plt.scatter(X,y, color='red')\n",
    "  plt.plot(X, lin_reg.predict(X), color='blue')\n",
    "  plt.title('Linear Regression line')\n",
    "  plt.show()\n",
    "  return\n",
    "lin_reg_fn()"
   ]
  },
  {
   "cell_type": "code",
   "execution_count": null,
   "metadata": {
    "colab": {
     "base_uri": "https://localhost:8080/"
    },
    "id": "0xLXj7e6yGR8",
    "outputId": "81c5cc44-51e9-4928-b40c-b66c57319854"
   },
   "outputs": [
    {
     "data": {
      "text/plain": [
       "LinearRegression(copy_X=True, fit_intercept=True, n_jobs=None, normalize=False)"
      ]
     },
     "execution_count": 40,
     "metadata": {
      "tags": []
     },
     "output_type": "execute_result"
    }
   ],
   "source": [
    "#ploynomial regression\n",
    "from sklearn.preprocessing import PolynomialFeatures\n",
    "poly_reg=PolynomialFeatures(degree=4)\n",
    "x_poly=poly_reg.fit_transform(X)\n",
    "\n",
    "pol_reg=LinearRegression()\n",
    "pol_reg.fit(x_poly, y)\n"
   ]
  },
  {
   "cell_type": "code",
   "execution_count": null,
   "metadata": {
    "colab": {
     "base_uri": "https://localhost:8080/",
     "height": 281
    },
    "id": "MNppJ56Wy9In",
    "outputId": "beea8ccd-17be-42aa-e7ce-3da11811e3d0"
   },
   "outputs": [
    {
     "data": {
      "image/png": "[encoded data removed]",
      "text/plain": [
       "<Figure size 432x288 with 1 Axes>"
      ]
     },
     "metadata": {
      "needs_background": "light",
      "tags": []
     },
     "output_type": "display_data"
    }
   ],
   "source": [
    "def poly_reg_fn():\n",
    "  plt.scatter(X,y, color='red')\n",
    "  #plt.plot(X, poly_reg.predict(poly_reg.fit_transform(X)),color='blue')\n",
    "  plt.plot(X, pol_reg.predict(poly_reg.fit_transform(X)), color='blue')\n",
    "  plt.title('Polynomial Regression')\n",
    "  plt.show()\n",
    "  return\n",
    "poly_reg_fn()"
   ]
  },
  {
   "cell_type": "code",
   "execution_count": null,
   "metadata": {
    "colab": {
     "base_uri": "https://localhost:8080/"
    },
    "id": "yl9FyTmL1uK0",
    "outputId": "d4507a10-5f2f-4d50-f107-696af4d05f08"
   },
   "outputs": [
    {
     "data": {
      "text/plain": [
       "array([249500.])"
      ]
     },
     "execution_count": 23,
     "metadata": {
      "tags": []
     },
     "output_type": "execute_result"
    }
   ],
   "source": [
    "lin_reg.predict([[5.5]])"
   ]
  },
  {
   "cell_type": "code",
   "execution_count": null,
   "metadata": {
    "colab": {
     "base_uri": "https://localhost:8080/"
    },
    "id": "9FJX0Ube13Pz",
    "outputId": "2e27a4b1-2477-49a5-d254-52cd78cff14c"
   },
   "outputs": [
    {
     "data": {
      "text/plain": [
       "array([132148.43750002])"
      ]
     },
     "execution_count": 42,
     "metadata": {
      "tags": []
     },
     "output_type": "execute_result"
    }
   ],
   "source": [
    "\n",
    "pol_reg.predict(poly_reg.fit_transform([[5.5]]))"
   ]
  }
 ],
 "metadata": {
  "colab": {
   "collapsed_sections": [],
   "name": "ploy_reg_implement.ipynb",
   "provenance": []
  },
  "kernelspec": {
   "display_name": "Python 3",
   "language": "python",
   "name": "python3"
  },
  "language_info": {
   "codemirror_mode": {
    "name": "ipython",
    "version": 3
   },
   "file_extension": ".py",
   "mimetype": "text/x-python",
   "name": "python",
   "nbconvert_exporter": "python",
   "pygments_lexer": "ipython3",
   "version": "3.8.3"
  }
 },
 "nbformat": 4,
 "nbformat_minor": 1
}
