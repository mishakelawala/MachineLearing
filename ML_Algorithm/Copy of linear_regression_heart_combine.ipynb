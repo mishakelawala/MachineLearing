{
 "cells": [
  {
   "cell_type": "code",
   "execution_count": 61,
   "metadata": {
    "id": "gvFxjIMu2t6Z"
   },
   "outputs": [
    {
     "data": {
      "text/html": [
       "<div>\n",
       "<style scoped>\n",
       "    .dataframe tbody tr th:only-of-type {\n",
       "        vertical-align: middle;\n",
       "    }\n",
       "\n",
       "    .dataframe tbody tr th {\n",
       "        vertical-align: top;\n",
       "    }\n",
       "\n",
       "    .dataframe thead th {\n",
       "        text-align: right;\n",
       "    }\n",
       "</style>\n",
       "<table border=\"1\" class=\"dataframe\">\n",
       "  <thead>\n",
       "    <tr style=\"text-align: right;\">\n",
       "      <th></th>\n",
       "      <th>Unnamed: 0</th>\n",
       "      <th>Age</th>\n",
       "      <th>Sex</th>\n",
       "      <th>ChestPain</th>\n",
       "      <th>RestBP</th>\n",
       "      <th>Chol</th>\n",
       "      <th>Fbs</th>\n",
       "      <th>RestECG</th>\n",
       "      <th>MaxHR</th>\n",
       "      <th>ExAng</th>\n",
       "      <th>Oldpeak</th>\n",
       "      <th>Slope</th>\n",
       "      <th>Ca</th>\n",
       "      <th>Thal</th>\n",
       "      <th>AHD</th>\n",
       "    </tr>\n",
       "  </thead>\n",
       "  <tbody>\n",
       "    <tr>\n",
       "      <th>0</th>\n",
       "      <td>1</td>\n",
       "      <td>63</td>\n",
       "      <td>1</td>\n",
       "      <td>typical</td>\n",
       "      <td>145</td>\n",
       "      <td>233</td>\n",
       "      <td>1</td>\n",
       "      <td>2</td>\n",
       "      <td>150</td>\n",
       "      <td>0</td>\n",
       "      <td>2.3</td>\n",
       "      <td>3</td>\n",
       "      <td>0.0</td>\n",
       "      <td>fixed</td>\n",
       "      <td>No</td>\n",
       "    </tr>\n",
       "    <tr>\n",
       "      <th>1</th>\n",
       "      <td>2</td>\n",
       "      <td>67</td>\n",
       "      <td>1</td>\n",
       "      <td>asymptomatic</td>\n",
       "      <td>160</td>\n",
       "      <td>286</td>\n",
       "      <td>0</td>\n",
       "      <td>2</td>\n",
       "      <td>108</td>\n",
       "      <td>1</td>\n",
       "      <td>1.5</td>\n",
       "      <td>2</td>\n",
       "      <td>3.0</td>\n",
       "      <td>normal</td>\n",
       "      <td>Yes</td>\n",
       "    </tr>\n",
       "    <tr>\n",
       "      <th>2</th>\n",
       "      <td>3</td>\n",
       "      <td>67</td>\n",
       "      <td>1</td>\n",
       "      <td>asymptomatic</td>\n",
       "      <td>120</td>\n",
       "      <td>229</td>\n",
       "      <td>0</td>\n",
       "      <td>2</td>\n",
       "      <td>129</td>\n",
       "      <td>1</td>\n",
       "      <td>2.6</td>\n",
       "      <td>2</td>\n",
       "      <td>2.0</td>\n",
       "      <td>reversable</td>\n",
       "      <td>Yes</td>\n",
       "    </tr>\n",
       "    <tr>\n",
       "      <th>3</th>\n",
       "      <td>4</td>\n",
       "      <td>37</td>\n",
       "      <td>1</td>\n",
       "      <td>nonanginal</td>\n",
       "      <td>130</td>\n",
       "      <td>250</td>\n",
       "      <td>0</td>\n",
       "      <td>0</td>\n",
       "      <td>187</td>\n",
       "      <td>0</td>\n",
       "      <td>3.5</td>\n",
       "      <td>3</td>\n",
       "      <td>0.0</td>\n",
       "      <td>normal</td>\n",
       "      <td>No</td>\n",
       "    </tr>\n",
       "    <tr>\n",
       "      <th>4</th>\n",
       "      <td>5</td>\n",
       "      <td>41</td>\n",
       "      <td>0</td>\n",
       "      <td>nontypical</td>\n",
       "      <td>130</td>\n",
       "      <td>204</td>\n",
       "      <td>0</td>\n",
       "      <td>2</td>\n",
       "      <td>172</td>\n",
       "      <td>0</td>\n",
       "      <td>1.4</td>\n",
       "      <td>1</td>\n",
       "      <td>0.0</td>\n",
       "      <td>normal</td>\n",
       "      <td>No</td>\n",
       "    </tr>\n",
       "  </tbody>\n",
       "</table>\n",
       "</div>"
      ],
      "text/plain": [
       "   Unnamed: 0  Age  Sex     ChestPain  RestBP  Chol  Fbs  RestECG  MaxHR  \\\n",
       "0           1   63    1       typical     145   233    1        2    150   \n",
       "1           2   67    1  asymptomatic     160   286    0        2    108   \n",
       "2           3   67    1  asymptomatic     120   229    0        2    129   \n",
       "3           4   37    1    nonanginal     130   250    0        0    187   \n",
       "4           5   41    0    nontypical     130   204    0        2    172   \n",
       "\n",
       "   ExAng  Oldpeak  Slope   Ca        Thal  AHD  \n",
       "0      0      2.3      3  0.0       fixed   No  \n",
       "1      1      1.5      2  3.0      normal  Yes  \n",
       "2      1      2.6      2  2.0  reversable  Yes  \n",
       "3      0      3.5      3  0.0      normal   No  \n",
       "4      0      1.4      1  0.0      normal   No  "
      ]
     },
     "execution_count": 61,
     "metadata": {},
     "output_type": "execute_result"
    }
   ],
   "source": [
    "import numpy as np\n",
    "import pandas as pd\n",
    "data = pd.read_csv(r\"C:\\Users\\DELL\\Desktop\\ML using python\\files\\Heart.csv\")\n",
    "data.head()"
   ]
  },
  {
   "cell_type": "code",
   "execution_count": 62,
   "metadata": {
    "executionInfo": {
     "elapsed": 1080,
     "status": "ok",
     "timestamp": 1609737927023,
     "user": {
      "displayName": "Dr. Shailesh Chaudhari",
      "photoUrl": "https://lh3.googleusercontent.com/a-/AOh14Gi28IplxeAjBiV9hadlpcXjnuhGeJUsZ8mndx7A=s64",
      "userId": "16546201827469655329"
     },
     "user_tz": -330
    },
    "id": "RkeZ5ZfV2t6f"
   },
   "outputs": [],
   "source": [
    "# Group by column name\n",
    "# df = data.groupby('Thal').nunique()\n",
    "# df"
   ]
  },
  {
   "cell_type": "code",
   "execution_count": 63,
   "metadata": {
    "executionInfo": {
     "elapsed": 1520,
     "status": "ok",
     "timestamp": 1609737930683,
     "user": {
      "displayName": "Dr. Shailesh Chaudhari",
      "photoUrl": "https://lh3.googleusercontent.com/a-/AOh14Gi28IplxeAjBiV9hadlpcXjnuhGeJUsZ8mndx7A=s64",
      "userId": "16546201827469655329"
     },
     "user_tz": -330
    },
    "id": "aFNnGpaC2t6g"
   },
   "outputs": [],
   "source": [
    "# Transform ChestPain & Thal string data to numeric data\n",
    "from sklearn.preprocessing import LabelEncoder\n",
    "le=LabelEncoder()\n",
    "data[\"ChestPain\"]=le.fit_transform(data[\"ChestPain\"])\n",
    "data[\"Thal\"]=le.fit_transform(data[\"Thal\"].astype(str))\n",
    "data[\"AHD\"]=le.fit_transform(data[\"AHD\"].astype(str))\n",
    "# data"
   ]
  },
  {
   "cell_type": "code",
   "execution_count": 64,
   "metadata": {
    "executionInfo": {
     "elapsed": 1084,
     "status": "ok",
     "timestamp": 1609737949810,
     "user": {
      "displayName": "Dr. Shailesh Chaudhari",
      "photoUrl": "https://lh3.googleusercontent.com/a-/AOh14Gi28IplxeAjBiV9hadlpcXjnuhGeJUsZ8mndx7A=s64",
      "userId": "16546201827469655329"
     },
     "user_tz": -330
    },
    "id": "BXZAF3CU2t6g"
   },
   "outputs": [],
   "source": [
    "# Removing null values\n",
    "null_val = ['Age','Sex','ChestPain','RestBP','Chol','Fbs','RestECG','MaxHR','Oldpeak','Slope','Ca','Thal','AHD']\n",
    "for col in null_val:\n",
    "    data[col] = data[col].replace(0, np.nan)\n",
    "    mean = int(data[col].mean(skipna=True))\n",
    "    data[col] = data[col].replace(np.nan, mean)\n",
    "\n",
    "#data"
   ]
  },
  {
   "cell_type": "code",
   "execution_count": 65,
   "metadata": {
    "executionInfo": {
     "elapsed": 1536,
     "status": "ok",
     "timestamp": 1609741347445,
     "user": {
      "displayName": "Dr. Shailesh Chaudhari",
      "photoUrl": "https://lh3.googleusercontent.com/a-/AOh14Gi28IplxeAjBiV9hadlpcXjnuhGeJUsZ8mndx7A=s64",
      "userId": "16546201827469655329"
     },
     "user_tz": -330
    },
    "id": "j5yskz4D2t6g"
   },
   "outputs": [],
   "source": [
    "x = data[['Age','Sex','ChestPain','RestBP','Chol','Fbs','RestECG','MaxHR','Oldpeak','Slope','Ca','Thal']].values\n",
    "y = data['AHD'].values\n",
    "#y = data.iloc[:, 0].values "
   ]
  },
  {
   "cell_type": "code",
   "execution_count": 66,
   "metadata": {
    "executionInfo": {
     "elapsed": 1910,
     "status": "ok",
     "timestamp": 1609739104484,
     "user": {
      "displayName": "Dr. Shailesh Chaudhari",
      "photoUrl": "https://lh3.googleusercontent.com/a-/AOh14Gi28IplxeAjBiV9hadlpcXjnuhGeJUsZ8mndx7A=s64",
      "userId": "16546201827469655329"
     },
     "user_tz": -330
    },
    "id": "SriT3X1L6SDM"
   },
   "outputs": [],
   "source": [
    "#X = data.iloc[:, [0,8,3,6]].values"
   ]
  },
  {
   "cell_type": "code",
   "execution_count": 53,
   "metadata": {
    "executionInfo": {
     "elapsed": 1039,
     "status": "ok",
     "timestamp": 1609739179654,
     "user": {
      "displayName": "Dr. Shailesh Chaudhari",
      "photoUrl": "https://lh3.googleusercontent.com/a-/AOh14Gi28IplxeAjBiV9hadlpcXjnuhGeJUsZ8mndx7A=s64",
      "userId": "16546201827469655329"
     },
     "user_tz": -330
    },
    "id": "VJnzDnyz50aZ"
   },
   "outputs": [],
   "source": [
    "from sklearn.preprocessing import LabelEncoder\n",
    "labelencoder = LabelEncoder()\n",
    "X[:, 0] = labelencoder.fit_transform(X[:, 0])"
   ]
  },
  {
   "cell_type": "code",
   "execution_count": 67,
   "metadata": {
    "colab": {
     "base_uri": "https://localhost:8080/"
    },
    "executionInfo": {
     "elapsed": 2819,
     "status": "ok",
     "timestamp": 1609748763071,
     "user": {
      "displayName": "Dr. Shailesh Chaudhari",
      "photoUrl": "https://lh3.googleusercontent.com/a-/AOh14Gi28IplxeAjBiV9hadlpcXjnuhGeJUsZ8mndx7A=s64",
      "userId": "16546201827469655329"
     },
     "user_tz": -330
    },
    "id": "vC_kQEpB2t6h",
    "outputId": "e0b82eac-9666-47e9-be62-773a131f361d"
   },
   "outputs": [
    {
     "name": "stdout",
     "output_type": "stream",
     "text": [
      "[[  0. 150.   3.   1.]\n",
      " [  1. 108.   1.   1.]\n",
      " [  2. 129.   1.   1.]\n",
      " ...\n",
      " [300. 115.   1.   1.]\n",
      " [301. 174.   2.   1.]\n",
      " [302. 173.   1.   1.]]\n"
     ]
    }
   ],
   "source": [
    "# X = X.reshape(len(x), 1)\n",
    "print(X)"
   ]
  },
  {
   "cell_type": "code",
   "execution_count": 68,
   "metadata": {
    "executionInfo": {
     "elapsed": 1041,
     "status": "ok",
     "timestamp": 1609741371618,
     "user": {
      "displayName": "Dr. Shailesh Chaudhari",
      "photoUrl": "https://lh3.googleusercontent.com/a-/AOh14Gi28IplxeAjBiV9hadlpcXjnuhGeJUsZ8mndx7A=s64",
      "userId": "16546201827469655329"
     },
     "user_tz": -330
    },
    "id": "-q4-6d4g2t6h"
   },
   "outputs": [],
   "source": [
    "# divide data into training and testing dataset\n",
    "from sklearn.model_selection import train_test_split\n",
    "xTrain, xTest, yTrain, yTest = train_test_split(X, y, train_size = 0.80, random_state=0)"
   ]
  },
  {
   "cell_type": "code",
   "execution_count": 69,
   "metadata": {
    "executionInfo": {
     "elapsed": 1065,
     "status": "ok",
     "timestamp": 1609741263344,
     "user": {
      "displayName": "Dr. Shailesh Chaudhari",
      "photoUrl": "https://lh3.googleusercontent.com/a-/AOh14Gi28IplxeAjBiV9hadlpcXjnuhGeJUsZ8mndx7A=s64",
      "userId": "16546201827469655329"
     },
     "user_tz": -330
    },
    "id": "vbc4CrJc2t6h"
   },
   "outputs": [],
   "source": [
    "# prepare model\n",
    "from sklearn.linear_model import LinearRegression\n",
    "model = LinearRegression()"
   ]
  },
  {
   "cell_type": "code",
   "execution_count": 70,
   "metadata": {
    "colab": {
     "base_uri": "https://localhost:8080/"
    },
    "executionInfo": {
     "elapsed": 2785,
     "status": "ok",
     "timestamp": 1609741294658,
     "user": {
      "displayName": "Dr. Shailesh Chaudhari",
      "photoUrl": "https://lh3.googleusercontent.com/a-/AOh14Gi28IplxeAjBiV9hadlpcXjnuhGeJUsZ8mndx7A=s64",
      "userId": "16546201827469655329"
     },
     "user_tz": -330
    },
    "id": "NwSZqB-p2t6i",
    "outputId": "b1eaddc6-8b9d-470b-8a76-916e43921649"
   },
   "outputs": [
    {
     "data": {
      "text/plain": [
       "LinearRegression()"
      ]
     },
     "execution_count": 70,
     "metadata": {},
     "output_type": "execute_result"
    }
   ],
   "source": [
    "# train the model\n",
    "model.fit(xTrain, yTrain)"
   ]
  },
  {
   "cell_type": "code",
   "execution_count": 71,
   "metadata": {
    "id": "sGV3wGLp2t6i"
   },
   "outputs": [],
   "source": [
    "# prediction\n",
    "yPred = model.predict(xTest)\n",
    "#yPred"
   ]
  },
  {
   "cell_type": "code",
   "execution_count": 72,
   "metadata": {
    "colab": {
     "base_uri": "https://localhost:8080/"
    },
    "executionInfo": {
     "elapsed": 1016,
     "status": "ok",
     "timestamp": 1609741419869,
     "user": {
      "displayName": "Dr. Shailesh Chaudhari",
      "photoUrl": "https://lh3.googleusercontent.com/a-/AOh14Gi28IplxeAjBiV9hadlpcXjnuhGeJUsZ8mndx7A=s64",
      "userId": "16546201827469655329"
     },
     "user_tz": -330
    },
    "id": "SDOFi9-J2t6i",
    "outputId": "606e5469-bf7e-4cc9-b010-a265c4e92570"
   },
   "outputs": [
    {
     "data": {
      "text/plain": [
       "1.0"
      ]
     },
     "execution_count": 72,
     "metadata": {},
     "output_type": "execute_result"
    }
   ],
   "source": [
    "from sklearn.metrics import r2_score\n",
    "r2 = r2_score(yTest, yPred)\n",
    "r2"
   ]
  },
  {
   "cell_type": "code",
   "execution_count": 73,
   "metadata": {
    "id": "MOg9Px3h2t6i"
   },
   "outputs": [
    {
     "name": "stdout",
     "output_type": "stream",
     "text": [
      "[1. 1. 1. 1. 1. 1. 1. 1. 1. 1. 1. 1. 1. 1. 1. 1. 1. 1. 1. 1. 1. 1. 1. 1.\n",
      " 1. 1. 1. 1. 1. 1. 1. 1. 1. 1. 1. 1. 1. 1. 1. 1. 1. 1. 1. 1. 1. 1. 1. 1.\n",
      " 1. 1. 1. 1. 1. 1. 1. 1. 1. 1. 1. 1. 1. 1. 1. 1. 1. 1. 1. 1. 1. 1. 1. 1.\n",
      " 1. 1. 1. 1. 1. 1. 1. 1. 1. 1. 1. 1. 1. 1. 1. 1. 1. 1. 1. 1. 1. 1. 1. 1.\n",
      " 1. 1. 1. 1.]\n"
     ]
    },
    {
     "data": {
      "text/plain": [
       "1.0"
      ]
     },
     "execution_count": 73,
     "metadata": {},
     "output_type": "execute_result"
    }
   ],
   "source": [
    "# cross validation\n",
    "accu = []\n",
    "for i in range(1, 101):\n",
    "  xTrain, xTest, yTrain, yTest = train_test_split(X, y, train_size=0.80, random_state=i)\n",
    "  model = LinearRegression()\n",
    "  model.fit(xTrain, yTrain)\n",
    "  yPred = model.predict(xTest)\n",
    "  r2 = r2_score(yTest, yPred)\n",
    "  accu.append(r2)\n",
    "\n",
    "accu_array = np.array(accu)\n",
    "print(accu_array)\n",
    "accu_array.max()"
   ]
  },
  {
   "cell_type": "code",
   "execution_count": null,
   "metadata": {
    "id": "v_85Sv_x2t6j"
   },
   "outputs": [],
   "source": []
  }
 ],
 "metadata": {
  "colab": {
   "collapsed_sections": [],
   "name": "Copy of regression_heart_combine.ipynb",
   "provenance": [
    {
     "file_id": "1arl32Lg3tKeuNkClwgHF8Zy9Y7djyFhU",
     "timestamp": 1609750603439
    }
   ]
  },
  "kernelspec": {
   "display_name": "Python 3",
   "language": "python",
   "name": "python3"
  },
  "language_info": {
   "codemirror_mode": {
    "name": "ipython",
    "version": 3
   },
   "file_extension": ".py",
   "mimetype": "text/x-python",
   "name": "python",
   "nbconvert_exporter": "python",
   "pygments_lexer": "ipython3",
   "version": "3.8.3"
  }
 },
 "nbformat": 4,
 "nbformat_minor": 1
}
